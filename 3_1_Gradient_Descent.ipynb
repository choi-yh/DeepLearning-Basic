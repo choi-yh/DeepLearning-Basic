{
  "nbformat": 4,
  "nbformat_minor": 0,
  "metadata": {
    "colab": {
      "name": "3-1 Gradient Descent.ipynb",
      "version": "0.3.2",
      "provenance": [],
      "collapsed_sections": [],
      "include_colab_link": true
    },
    "kernelspec": {
      "name": "python3",
      "display_name": "Python 3"
    }
  },
  "cells": [
    {
      "cell_type": "markdown",
      "metadata": {
        "id": "view-in-github",
        "colab_type": "text"
      },
      "source": [
        "<a href=\"https://colab.research.google.com/github/choi-yh/DeepLearningBasic/blob/master/3_1_Gradient_Descent.ipynb\" target=\"_parent\"><img src=\"https://colab.research.google.com/assets/colab-badge.svg\" alt=\"Open In Colab\"/></a>"
      ]
    },
    {
      "cell_type": "code",
      "metadata": {
        "id": "VHshtp2d02l-",
        "colab_type": "code",
        "colab": {
          "base_uri": "https://localhost:8080/",
          "height": 397
        },
        "outputId": "0a05f344-57c1-46a8-e2ed-22d37d700b8e"
      },
      "source": [
        "x_data = [1, 2, 3]\n",
        "y_data = [1, 2, 3]\n",
        "\n",
        "W = tf.Variable(tf.random_normal([1]), name='weight')\n",
        "X = tf.placeholder(tf.float32)\n",
        "Y = tf.placeholder(tf.float32)\n",
        "\n",
        "hypothesis = X * W\n",
        "cost = tf.reduce_sum(tf.square(hypothesis - Y))\n",
        "\n",
        "optimizer = tf.train.GradientDescentOptimizer(learning_rate=0.01)\n",
        "train = optimizer.minimize(cost)\n",
        "\n",
        "sess = tf.Session()\n",
        "sess.run(tf.global_variables_initializer())\n",
        "for step in range(21):\n",
        "    sess.run(train, feed_dict={X: x_data, Y: y_data})\n",
        "    print(step, sess.run(cost, feed_dict={X: x_data, Y: y_data}), sess.run(W))"
      ],
      "execution_count": 6,
      "outputs": [
        {
          "output_type": "stream",
          "text": [
            "0 25.888817 [-0.35985333]\n",
            "1 13.420762 [0.0209056]\n",
            "2 6.957323 [0.29505202]\n",
            "3 3.6066763 [0.49243745]\n",
            "4 1.8697009 [0.634555]\n",
            "5 0.96925294 [0.7368796]\n",
            "6 0.50246066 [0.8105533]\n",
            "7 0.2604755 [0.8635984]\n",
            "8 0.13503051 [0.90179086]\n",
            "9 0.069999814 [0.9292894]\n",
            "10 0.036287967 [0.94908834]\n",
            "11 0.018811662 [0.9633436]\n",
            "12 0.009751974 [0.9736074]\n",
            "13 0.005055424 [0.9809973]\n",
            "14 0.0026207448 [0.98631805]\n",
            "15 0.001358585 [0.990149]\n",
            "16 0.0007042923 [0.9929073]\n",
            "17 0.00036510595 [0.99489325]\n",
            "18 0.00018926596 [0.99632317]\n",
            "19 9.8116805e-05 [0.99735266]\n",
            "20 5.0864197e-05 [0.9980939]\n"
          ],
          "name": "stdout"
        }
      ]
    },
    {
      "cell_type": "code",
      "metadata": {
        "id": "lAaIyksR0_W-",
        "colab_type": "code",
        "colab": {}
      },
      "source": [
        ""
      ],
      "execution_count": 0,
      "outputs": []
    }
  ]
}