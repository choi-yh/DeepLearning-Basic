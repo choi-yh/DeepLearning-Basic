{
  "nbformat": 4,
  "nbformat_minor": 0,
  "metadata": {
    "colab": {
      "name": "2-1 Linear Regression.ipynb",
      "version": "0.3.2",
      "provenance": [],
      "collapsed_sections": [],
      "include_colab_link": true
    },
    "kernelspec": {
      "name": "python3",
      "display_name": "Python 3"
    }
  },
  "cells": [
    {
      "cell_type": "markdown",
      "metadata": {
        "id": "view-in-github",
        "colab_type": "text"
      },
      "source": [
        "<a href=\"https://colab.research.google.com/github/choi-yh/DeepLearningBasic/blob/master/2_1_Linear_Regression.ipynb\" target=\"_parent\"><img src=\"https://colab.research.google.com/assets/colab-badge.svg\" alt=\"Open In Colab\"/></a>"
      ]
    },
    {
      "cell_type": "markdown",
      "metadata": {
        "id": "zyiTINhOnWRd",
        "colab_type": "text"
      },
      "source": [
        "$$\\text{Hypothesis : } \\quad H(x) = Wx + b$$  \n",
        "$$\\text{Cost function : } \\quad Cost(W,b) = \\frac{1}{m} \\sum_{i=1}^m (H(x^i) - y^i)^2$$"
      ]
    },
    {
      "cell_type": "code",
      "metadata": {
        "id": "OPr4yuz-oHah",
        "colab_type": "code",
        "colab": {
          "base_uri": "https://localhost:8080/",
          "height": 216
        },
        "outputId": "390d6f7b-f9cc-4644-ab4e-f26533dbfc91"
      },
      "source": [
        "import tensorflow as tf\n",
        "\n",
        "x_train = [1, 2, 3]\n",
        "y_train = [1, 2, 3]\n",
        "\n",
        "W = tf.Variable(tf.random.normal([1]), name='weight')\n",
        "b = tf.Variable(tf.random.normal([1]), name='bias')\n",
        "\n",
        "hypothesis = x_train * W + b\n",
        "\n",
        "cost = tf.reduce_mean(tf.square(hypothesis - y_train))\n",
        "\n",
        "optimizer = tf.train.GradientDescentOptimizer(learning_rate=0.01)\n",
        "train = optimizer.minimize(cost)\n",
        "\n",
        "sess = tf.Session()\n",
        "sess.run(tf.initializers.global_variables())\n",
        "\n",
        "for step in range(2001):\n",
        "    sess.run(train)\n",
        "    if step % 200 == 0:\n",
        "        print(step, sess.run(cost), sess.run(W), sess.run(b))"
      ],
      "execution_count": 18,
      "outputs": [
        {
          "output_type": "stream",
          "text": [
            "0 0.03626064 [0.88064456] [0.4023064]\n",
            "200 0.007954605 [0.896413] [0.23547758]\n",
            "400 0.0030374562 [0.93598956] [0.14551084]\n",
            "600 0.0011598516 [0.9604454] [0.08991691]\n",
            "800 0.00044288937 [0.9755576] [0.05556324]\n",
            "1000 0.0001691174 [0.9848961] [0.0343348]\n",
            "1200 6.457703e-05 [0.99066675] [0.02121677]\n",
            "1400 2.4659123e-05 [0.9942326] [0.01311068]\n",
            "1600 9.415954e-06 [0.99643606] [0.00810167]\n",
            "1800 3.5957155e-06 [0.99779767] [0.00500637]\n",
            "2000 1.3731783e-06 [0.99863905] [0.00309374]\n"
          ],
          "name": "stdout"
        }
      ]
    },
    {
      "cell_type": "code",
      "metadata": {
        "id": "ZUMajTZWwB2L",
        "colab_type": "code",
        "colab": {}
      },
      "source": [
        ""
      ],
      "execution_count": 0,
      "outputs": []
    }
  ]
}